{
  "cells": [
    {
      "cell_type": "code",
      "execution_count": 11,
      "metadata": {},
      "outputs": [
        {
          "name": "stdout",
          "output_type": "stream",
          "text": [
            "Requirement already satisfied: yfinance in /usr/local/python/3.12.1/lib/python3.12/site-packages (0.2.66)\n",
            "Requirement already satisfied: sqlalchemy in /usr/local/python/3.12.1/lib/python3.12/site-packages (2.0.44)\n",
            "Requirement already satisfied: statsmodels in /usr/local/python/3.12.1/lib/python3.12/site-packages (0.14.5)\n",
            "Collecting lxml\n",
            "  Downloading lxml-6.0.2-cp312-cp312-manylinux_2_26_x86_64.manylinux_2_28_x86_64.whl.metadata (3.6 kB)\n",
            "Requirement already satisfied: pandas>=1.3.0 in /home/codespace/.local/lib/python3.12/site-packages (from yfinance) (2.3.1)\n",
            "Requirement already satisfied: numpy>=1.16.5 in /usr/local/python/3.12.1/lib/python3.12/site-packages (from yfinance) (1.26.4)\n",
            "Requirement already satisfied: requests>=2.31 in /home/codespace/.local/lib/python3.12/site-packages (from yfinance) (2.32.4)\n",
            "Requirement already satisfied: multitasking>=0.0.7 in /usr/local/python/3.12.1/lib/python3.12/site-packages (from yfinance) (0.0.12)\n",
            "Requirement already satisfied: platformdirs>=2.0.0 in /home/codespace/.local/lib/python3.12/site-packages (from yfinance) (4.3.8)\n",
            "Requirement already satisfied: pytz>=2022.5 in /home/codespace/.local/lib/python3.12/site-packages (from yfinance) (2025.2)\n",
            "Requirement already satisfied: frozendict>=2.3.4 in /usr/local/python/3.12.1/lib/python3.12/site-packages (from yfinance) (2.4.6)\n",
            "Requirement already satisfied: peewee>=3.16.2 in /usr/local/python/3.12.1/lib/python3.12/site-packages (from yfinance) (3.18.2)\n",
            "Requirement already satisfied: beautifulsoup4>=4.11.1 in /home/codespace/.local/lib/python3.12/site-packages (from yfinance) (4.13.4)\n",
            "Requirement already satisfied: curl_cffi>=0.7 in /usr/local/python/3.12.1/lib/python3.12/site-packages (from yfinance) (0.13.0)\n",
            "Requirement already satisfied: protobuf>=3.19.0 in /usr/local/python/3.12.1/lib/python3.12/site-packages (from yfinance) (6.33.0)\n",
            "Requirement already satisfied: websockets>=13.0 in /usr/local/python/3.12.1/lib/python3.12/site-packages (from yfinance) (15.0.1)\n",
            "Requirement already satisfied: greenlet>=1 in /usr/local/python/3.12.1/lib/python3.12/site-packages (from sqlalchemy) (3.2.4)\n",
            "Requirement already satisfied: typing-extensions>=4.6.0 in /home/codespace/.local/lib/python3.12/site-packages (from sqlalchemy) (4.14.1)\n",
            "Requirement already satisfied: scipy!=1.9.2,>=1.8 in /home/codespace/.local/lib/python3.12/site-packages (from statsmodels) (1.16.0)\n",
            "Requirement already satisfied: patsy>=0.5.6 in /usr/local/python/3.12.1/lib/python3.12/site-packages (from statsmodels) (1.0.1)\n",
            "Requirement already satisfied: packaging>=21.3 in /home/codespace/.local/lib/python3.12/site-packages (from statsmodels) (25.0)\n",
            "Requirement already satisfied: soupsieve>1.2 in /home/codespace/.local/lib/python3.12/site-packages (from beautifulsoup4>=4.11.1->yfinance) (2.7)\n",
            "Requirement already satisfied: cffi>=1.12.0 in /home/codespace/.local/lib/python3.12/site-packages (from curl_cffi>=0.7->yfinance) (1.17.1)\n",
            "Requirement already satisfied: certifi>=2024.2.2 in /home/codespace/.local/lib/python3.12/site-packages (from curl_cffi>=0.7->yfinance) (2025.7.9)\n",
            "Requirement already satisfied: pycparser in /home/codespace/.local/lib/python3.12/site-packages (from cffi>=1.12.0->curl_cffi>=0.7->yfinance) (2.22)\n",
            "Requirement already satisfied: python-dateutil>=2.8.2 in /home/codespace/.local/lib/python3.12/site-packages (from pandas>=1.3.0->yfinance) (2.9.0.post0)\n",
            "Requirement already satisfied: tzdata>=2022.7 in /home/codespace/.local/lib/python3.12/site-packages (from pandas>=1.3.0->yfinance) (2025.2)\n",
            "Requirement already satisfied: six>=1.5 in /home/codespace/.local/lib/python3.12/site-packages (from python-dateutil>=2.8.2->pandas>=1.3.0->yfinance) (1.17.0)\n",
            "Requirement already satisfied: charset_normalizer<4,>=2 in /home/codespace/.local/lib/python3.12/site-packages (from requests>=2.31->yfinance) (3.4.2)\n",
            "Requirement already satisfied: idna<4,>=2.5 in /home/codespace/.local/lib/python3.12/site-packages (from requests>=2.31->yfinance) (3.10)\n",
            "Requirement already satisfied: urllib3<3,>=1.21.1 in /home/codespace/.local/lib/python3.12/site-packages (from requests>=2.31->yfinance) (2.5.0)\n",
            "Downloading lxml-6.0.2-cp312-cp312-manylinux_2_26_x86_64.manylinux_2_28_x86_64.whl (5.3 MB)\n",
            "\u001b[2K   \u001b[90m━━━━━━━━━━━━━━━━━━━━━━━━━━━━━━━━━━━━━━━━\u001b[0m \u001b[32m5.3/5.3 MB\u001b[0m \u001b[31m46.1 MB/s\u001b[0m eta \u001b[36m0:00:00\u001b[0m\n",
            "\u001b[?25hInstalling collected packages: lxml\n",
            "Successfully installed lxml-6.0.2\n",
            "\n",
            "\u001b[1m[\u001b[0m\u001b[34;49mnotice\u001b[0m\u001b[1;39;49m]\u001b[0m\u001b[39;49m A new release of pip is available: \u001b[0m\u001b[31;49m25.1.1\u001b[0m\u001b[39;49m -> \u001b[0m\u001b[32;49m25.2\u001b[0m\n",
            "\u001b[1m[\u001b[0m\u001b[34;49mnotice\u001b[0m\u001b[1;39;49m]\u001b[0m\u001b[39;49m To update, run: \u001b[0m\u001b[32;49mpython3 -m pip install --upgrade pip\u001b[0m\n"
          ]
        }
      ],
      "source": [
        "!pip install yfinance sqlalchemy statsmodels lxml"
      ]
    },
    {
      "cell_type": "code",
      "execution_count": 12,
      "metadata": {
        "id": "AzbY7ZHH3tml"
      },
      "outputs": [],
      "source": [
        "import pandas as pd\n",
        "import numpy as np\n",
        "import yfinance as yf\n",
        "import requests\n",
        "import sqlite3\n",
        "from sqlalchemy import create_engine\n",
        "from datetime import datetime, timedelta\n",
        "from sklearn.decomposition import PCA\n",
        "from sklearn.preprocessing import StandardScaler\n",
        "import statsmodels.api as sm\n",
        "import matplotlib.pyplot as plt\n",
        "import seaborn as sns\n",
        "import warnings\n",
        "warnings.filterwarnings('ignore')"
      ]
    },
    {
      "cell_type": "code",
      "execution_count": 13,
      "metadata": {
        "colab": {
          "base_uri": "https://localhost:8080/"
        },
        "id": "-LXwBeUg_B6-",
        "outputId": "564746fb-3c20-43c6-8a5c-0909bdb06dc6"
      },
      "outputs": [
        {
          "name": "stdout",
          "output_type": "stream",
          "text": [
            "Successfully extracted table from Wikipedia\n",
            "Table shape: (503, 8)\n",
            "Columns: ['Symbol', 'Security', 'GICS Sector', 'GICS Sub-Industry', 'Headquarters Location', 'Date added', 'CIK', 'Founded']\n",
            "\n"
          ]
        }
      ],
      "source": [
        "url = 'https://en.wikipedia.org/wiki/List_of_S%26P_500_companies'\n",
        "headers = {\n",
        "    'User-Agent': 'Mozilla/5.0 (Windows NT 10.0; Win64; x64) AppleWebKit/537.36 (KHTML, like Gecko) Chrome/91.0.4472.124 Safari/537.36'\n",
        "}\n",
        "response = requests.get(url, headers=headers)\n",
        "tables = pd.read_html(response.text)\n",
        "sp500_table = tables[0]\n",
        "\n",
        "print(\"Successfully extracted table from Wikipedia\")\n",
        "print(f\"Table shape: {sp500_table.shape}\")\n",
        "print(f\"Columns: {list(sp500_table.columns)}\\n\")"
      ]
    },
    {
      "cell_type": "code",
      "execution_count": 14,
      "metadata": {
        "colab": {
          "base_uri": "https://localhost:8080/"
        },
        "id": "jWM6Se1b_5Rp",
        "outputId": "b88587a3-dd08-4358-adde-18f812f386ec"
      },
      "outputs": [
        {
          "name": "stdout",
          "output_type": "stream",
          "text": [
            "Total number of tickers extracted: 503\n",
            "First 10 tickers: ['MMM', 'AOS', 'ABT', 'ABBV', 'ACN', 'ADBE', 'AMD', 'AES', 'AFL', 'A']\n",
            "Last 10 tickers: ['WMB', 'WTW', 'WDAY', 'WYNN', 'XEL', 'XYL', 'YUM', 'ZBRA', 'ZBH', 'ZTS']\n",
            "\n"
          ]
        }
      ],
      "source": [
        "# Extract tickers and clean them\n",
        "tickers = sp500_table['Symbol'].str.replace('.', '-').tolist()\n",
        "print(f\"Total number of tickers extracted: {len(tickers)}\")\n",
        "print(f\"First 10 tickers: {tickers[:10]}\")\n",
        "print(f\"Last 10 tickers: {tickers[-10:]}\\n\")"
      ]
    },
    {
      "cell_type": "code",
      "execution_count": 15,
      "metadata": {
        "colab": {
          "base_uri": "https://localhost:8080/"
        },
        "id": "cYYoQQ1fARBb",
        "outputId": "b90e321d-528e-4c84-f421-85e62b321939"
      },
      "outputs": [
        {
          "name": "stdout",
          "output_type": "stream",
          "text": [
            "Date range: 2022-10-19 to 2025-10-18\n"
          ]
        }
      ],
      "source": [
        "end_date = datetime.now()\n",
        "start_date = end_date - timedelta(days=3*365)\n",
        "\n",
        "print(f\"Date range: {start_date.date()} to {end_date.date()}\")"
      ]
    },
    {
      "cell_type": "code",
      "execution_count": 16,
      "metadata": {
        "colab": {
          "base_uri": "https://localhost:8080/"
        },
        "id": "Ny_uQDdqAn31",
        "outputId": "85f50f64-e5b0-4569-df40-1db1baf0f917"
      },
      "outputs": [
        {
          "name": "stdout",
          "output_type": "stream",
          "text": [
            "✓ S&P 500 Index downloaded: 752 days of data\n",
            "\n"
          ]
        }
      ],
      "source": [
        "sp500_index = yf.download('^GSPC', start=start_date, end=end_date, progress=False)\n",
        "print(f\"✓ S&P 500 Index downloaded: {len(sp500_index)} days of data\\n\")"
      ]
    },
    {
      "cell_type": "code",
      "execution_count": 17,
      "metadata": {
        "colab": {
          "base_uri": "https://localhost:8080/"
        },
        "id": "ehTyXKmIBH8M",
        "outputId": "cfe27124-4a90-433b-f4de-74afecfe65db"
      },
      "outputs": [
        {
          "name": "stderr",
          "output_type": "stream",
          "text": [
            "[*********************100%***********************]  503 of 503 completed\n"
          ]
        },
        {
          "name": "stdout",
          "output_type": "stream",
          "text": [
            "Downloaded: (752, 2515)\n"
          ]
        }
      ],
      "source": [
        "stock_data = yf.download(tickers, start=start_date, end=end_date, group_by='ticker', progress=True)\n",
        "\n",
        "print(f\"Downloaded: {stock_data.shape}\")"
      ]
    },
    {
      "cell_type": "code",
      "execution_count": 19,
      "metadata": {
        "colab": {
          "base_uri": "https://localhost:8080/"
        },
        "id": "QjBwB5NyGx-9",
        "outputId": "fe4d8d9f-a666-454d-c0bd-0e51f7a8d9b8"
      },
      "outputs": [
        {
          "name": "stdout",
          "output_type": "stream",
          "text": [
            "============================================================\n",
            "STEP 4: Extracting Prices and Calculating Returns\n",
            "============================================================\n",
            "Extracting 'Close' prices from MultiIndex columns...\n",
            "✓ Close prices extracted: (752, 503)\n",
            "  Tickers: 503\n",
            "  Days: 752\n",
            "  First 5 tickers: ['ALLE', 'CCL', 'PAYX', 'NDAQ', 'APD']\n",
            "  Date range: 2022-10-19 to 2025-10-17\n",
            "\n",
            "Calculating returns...\n",
            "✓ Stock returns calculated: (391, 503)\n",
            "✓ S&P 500 returns calculated: (751, 1)\n",
            "  Date range: 2024-03-28 to 2025-10-17\n",
            "\n",
            "Sample stock returns (first 3 tickers, first 3 days):\n",
            "Ticker          ALLE       CCL      PAYX\n",
            "Date                                    \n",
            "2024-03-28  0.003501 -0.049447  0.010450\n",
            "2024-04-01 -0.017742 -0.004896 -0.009609\n",
            "2024-04-02 -0.005593 -0.047971  0.003782\n",
            "\n",
            "Sample S&P 500 returns (first 5 days):\n",
            "Ticker         ^GSPC\n",
            "Date                \n",
            "2022-10-20 -0.007951\n",
            "2022-10-21  0.023725\n",
            "2022-10-24  0.011882\n",
            "2022-10-25  0.016267\n",
            "2022-10-26 -0.007388\n",
            "============================================================\n",
            "\n"
          ]
        }
      ],
      "source": [
        "# Step 4: Extract Adjusted Close Prices and Calculate Returns\n",
        "# Reference: Course materials on return calculation\n",
        "print(\"=\"*60)\n",
        "print(\"STEP 4: Extracting Prices and Calculating Returns\")\n",
        "print(\"=\"*60)\n",
        "\n",
        "# Extract Close prices from stocks\n",
        "print(\"Extracting 'Close' prices from MultiIndex columns...\")\n",
        "adj_close_prices = stock_data.xs('Close', level=1, axis=1)\n",
        "\n",
        "print(f\"✓ Close prices extracted: {adj_close_prices.shape}\")\n",
        "print(f\"  Tickers: {adj_close_prices.shape[1]}\")\n",
        "print(f\"  Days: {adj_close_prices.shape[0]}\")\n",
        "print(f\"  First 5 tickers: {adj_close_prices.columns[:5].tolist()}\")\n",
        "print(f\"  Date range: {adj_close_prices.index[0].date()} to {adj_close_prices.index[-1].date()}\")\n",
        "\n",
        "# Calculate returns\n",
        "print(\"\\nCalculating returns...\")\n",
        "returns = adj_close_prices.pct_change().dropna()\n",
        "\n",
        "# For S&P 500, use 'Close' column\n",
        "sp500_returns = sp500_index['Close'].pct_change().dropna()\n",
        "\n",
        "print(f\"✓ Stock returns calculated: {returns.shape}\")\n",
        "print(f\"✓ S&P 500 returns calculated: {sp500_returns.shape}\")\n",
        "print(f\"  Date range: {returns.index[0].date()} to {returns.index[-1].date()}\")\n",
        "\n",
        "# Show sample of returns\n",
        "print(f\"\\nSample stock returns (first 3 tickers, first 3 days):\")\n",
        "print(returns.iloc[:3, :3])\n",
        "\n",
        "print(f\"\\nSample S&P 500 returns (first 5 days):\")\n",
        "print(sp500_returns.head())\n",
        "\n",
        "print(\"=\"*60 + \"\\n\")"
      ]
    },
    {
      "cell_type": "code",
      "execution_count": 20,
      "metadata": {
        "colab": {
          "base_uri": "https://localhost:8080/"
        },
        "id": "MP_qKeAUlugq",
        "outputId": "91f7caa7-a155-4bf9-cc8d-12b7b2f7942f"
      },
      "outputs": [
        {
          "name": "stdout",
          "output_type": "stream",
          "text": [
            "Stored adj_close_prices: (752, 503)\n",
            "Stored returns: (391, 503)\n",
            "Stored sp500_index: (752, 5)\n"
          ]
        },
        {
          "data": {
            "text/plain": [
              "751"
            ]
          },
          "execution_count": 20,
          "metadata": {},
          "output_type": "execute_result"
        }
      ],
      "source": [
        "db_name = 'sp500_data.db'\n",
        "engine = create_engine(f'sqlite:///{db_name}')\n",
        "\n",
        "# Store data in database\n",
        "adj_close_prices.to_sql('adj_close_prices', engine, if_exists='replace', index=True)\n",
        "print(f\"Stored adj_close_prices: {adj_close_prices.shape}\")\n",
        "\n",
        "returns.to_sql('returns', engine, if_exists='replace', index=True)\n",
        "print(f\"Stored returns: {returns.shape}\")\n",
        "\n",
        "sp500_index.to_sql('sp500_index', engine, if_exists='replace', index=True)\n",
        "print(f\"Stored sp500_index: {sp500_index.shape}\")\n",
        "\n",
        "sp500_returns.to_sql('sp500_returns', engine, if_exists='replace', index=True)"
      ]
    },
    {
      "cell_type": "code",
      "execution_count": 24,
      "metadata": {
        "colab": {
          "base_uri": "https://localhost:8080/"
        },
        "id": "xW-mDk12rv_u",
        "outputId": "a232bd9e-c670-48d5-9a8a-da0c2b5704f0"
      },
      "outputs": [
        {
          "name": "stdout",
          "output_type": "stream",
          "text": [
            "Data standardized\n",
            "PCA completed: (391, 5)\n",
            "\n",
            "Variance Explained by Each Component:\n",
            "--------------------------------------------------\n",
            "  PC1: 28.71% (Cumulative: 28.71%)\n",
            "  PC2: 8.76% (Cumulative: 37.47%)\n",
            "  PC3: 3.61% (Cumulative: 41.07%)\n",
            "  PC4: 2.52% (Cumulative: 43.60%)\n",
            "  PC5: 1.96% (Cumulative: 45.55%)\n",
            "--------------------------------------------------\n",
            "Total: 45.55%\n",
            "\n",
            "PC returns DataFrame created: (391, 5)\n",
            "============================================================\n",
            "\n"
          ]
        }
      ],
      "source": [
        "# Standardize returns\n",
        "scaler = StandardScaler()\n",
        "returns_standardized = scaler.fit_transform(returns)\n",
        "print(f\"Data standardized\")\n",
        "\n",
        "# Apply PCA with 5 components\n",
        "pca = PCA(n_components=5)\n",
        "principal_components = pca.fit_transform(returns_standardized)\n",
        "print(f\"PCA completed: {principal_components.shape}\\n\")\n",
        "\n",
        "# Variance explained\n",
        "variance_explained = pca.explained_variance_ratio_\n",
        "cumulative_variance = np.cumsum(variance_explained)\n",
        "\n",
        "print(\"Variance Explained by Each Component:\")\n",
        "print(\"-\" * 50)\n",
        "for i in range(5):\n",
        "    print(f\"  PC{i+1}: {variance_explained[i]*100:.2f}% (Cumulative: {cumulative_variance[i]*100:.2f}%)\")\n",
        "print(\"-\" * 50)\n",
        "print(f\"Total: {cumulative_variance[-1]*100:.2f}%\\n\")\n",
        "\n",
        "# Create DataFrame with PC returns\n",
        "pc_returns = pd.DataFrame(\n",
        "    principal_components,\n",
        "    index=returns.index,\n",
        "    columns=[f'PC{i+1}' for i in range(5)]\n",
        ")\n",
        "print(f\"PC returns DataFrame created: {pc_returns.shape}\")\n",
        "print(\"=\"*60 + \"\\n\")"
      ]
    },
    {
      "cell_type": "code",
      "execution_count": 25,
      "metadata": {
        "colab": {
          "base_uri": "https://localhost:8080/"
        },
        "id": "OB2_Iej1rz_9",
        "outputId": "596112ef-27aa-46bb-f636-86ceea10c5fb"
      },
      "outputs": [
        {
          "name": "stdout",
          "output_type": "stream",
          "text": [
            "Aligned data: 391 dates\n",
            "\n",
            "PC1 Regression:\n",
            "--------------------------------------------------\n",
            "Alpha: -0.663319 (p-value: 0.0197)\n",
            "Beta:  992.895000 (p-value: 0.0000)\n",
            "R^2:    0.7848\n",
            "\n",
            "PC2 Regression:\n",
            "--------------------------------------------------\n",
            "Alpha: 0.122552 (p-value: 0.7037)\n",
            "Beta:  -183.442890 (p-value: 0.0000)\n",
            "R^2:    0.0878\n",
            "\n",
            "PC3 Regression:\n",
            "--------------------------------------------------\n",
            "Alpha: -0.035965 (p-value: 0.8669)\n",
            "Beta:  53.834599 (p-value: 0.0073)\n",
            "R^2:    0.0184\n",
            "\n",
            "PC4 Regression:\n",
            "--------------------------------------------------\n",
            "Alpha: 0.039081 (p-value: 0.8265)\n",
            "Beta:  -58.498992 (p-value: 0.0005)\n",
            "R^2:    0.0310\n",
            "\n",
            "PC5 Regression:\n",
            "--------------------------------------------------\n",
            "Alpha: 0.001796 (p-value: 0.9910)\n",
            "Beta:  -2.688952 (p-value: 0.8563)\n",
            "R^2:    0.0001\n",
            "\n",
            "============================================================\n",
            "Summary Table:\n",
            "============================================================\n",
            " PC     Alpha        Beta  Alpha p-val    Beta p-val      R^2\n",
            "PC1 -0.663319  992.895000     0.019655 7.560547e-132 0.784847\n",
            "PC2  0.122552 -183.442890     0.703726  2.287727e-09 0.087823\n",
            "PC3 -0.035965   53.834599     0.866883  7.297088e-03 0.018358\n",
            "PC4  0.039081  -58.498992     0.826475  4.693800e-04 0.030998\n",
            "PC5  0.001796   -2.688952     0.991012  8.562505e-01 0.000084\n"
          ]
        }
      ],
      "source": [
        "common_dates = pc_returns.index.intersection(sp500_returns.index)\n",
        "pc_returns_aligned = pc_returns.loc[common_dates]\n",
        "sp500_returns_aligned = sp500_returns.loc[common_dates]\n",
        "\n",
        "print(f\"Aligned data: {len(common_dates)} dates\\n\")\n",
        "\n",
        "# Run regressions for each PC\n",
        "regression_results = {}\n",
        "\n",
        "for i in range(1, 6):\n",
        "    pc_name = f'PC{i}'\n",
        "    print(f\"{pc_name} Regression:\")\n",
        "    print(\"-\" * 50)\n",
        "\n",
        "    # Prepare regression data\n",
        "    X = sm.add_constant(sp500_returns_aligned.values)  # Add intercept\n",
        "    y = pc_returns_aligned[pc_name].values\n",
        "\n",
        "    # Fit OLS model\n",
        "    model = sm.OLS(y, X).fit()\n",
        "\n",
        "    # Store results\n",
        "    regression_results[pc_name] = {\n",
        "        'alpha': model.params[0],\n",
        "        'beta': model.params[1],\n",
        "        'alpha_pvalue': model.pvalues[0],\n",
        "        'beta_pvalue': model.pvalues[1],\n",
        "        'r_squared': model.rsquared\n",
        "    }\n",
        "\n",
        "    # Display results\n",
        "    print(f\"Alpha: {model.params[0]:.6f} (p-value: {model.pvalues[0]:.4f})\")\n",
        "    print(f\"Beta:  {model.params[1]:.6f} (p-value: {model.pvalues[1]:.4f})\")\n",
        "    print(f\"R^2:    {model.rsquared:.4f}\\n\")\n",
        "\n",
        "print(\"=\"*60)\n",
        "print(\"Summary Table:\")\n",
        "print(\"=\"*60)\n",
        "summary_df = pd.DataFrame({\n",
        "    'PC': [f'PC{i}' for i in range(1, 6)],\n",
        "    'Alpha': [regression_results[f'PC{i}']['alpha'] for i in range(1, 6)],\n",
        "    'Beta': [regression_results[f'PC{i}']['beta'] for i in range(1, 6)],\n",
        "    'Alpha p-val': [regression_results[f'PC{i}']['alpha_pvalue'] for i in range(1, 6)],\n",
        "    'Beta p-val': [regression_results[f'PC{i}']['beta_pvalue'] for i in range(1, 6)],\n",
        "    'R^2': [regression_results[f'PC{i}']['r_squared'] for i in range(1, 6)]\n",
        "})\n",
        "print(summary_df.to_string(index=False))"
      ]
    }
  ],
  "metadata": {
    "colab": {
      "provenance": [],
      "toc_visible": true
    },
    "kernelspec": {
      "display_name": "Python 3",
      "name": "python3"
    },
    "language_info": {
      "codemirror_mode": {
        "name": "ipython",
        "version": 3
      },
      "file_extension": ".py",
      "mimetype": "text/x-python",
      "name": "python",
      "nbconvert_exporter": "python",
      "pygments_lexer": "ipython3",
      "version": "3.12.1"
    }
  },
  "nbformat": 4,
  "nbformat_minor": 0
}
