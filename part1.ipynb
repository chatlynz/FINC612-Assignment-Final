{
  "nbformat": 4,
  "nbformat_minor": 0,
  "metadata": {
    "colab": {
      "provenance": [],
      "toc_visible": true
    },
    "kernelspec": {
      "name": "python3",
      "display_name": "Python 3"
    },
    "language_info": {
      "name": "python"
    }
  },
  "cells": [
    {
      "cell_type": "code",
      "execution_count": null,
      "metadata": {
        "id": "AzbY7ZHH3tml"
      },
      "outputs": [],
      "source": [
        "import pandas as pd\n",
        "import numpy as np\n",
        "import yfinance as yf\n",
        "import requests\n",
        "from bs4 import BeautifulSoup\n",
        "import sqlite3\n",
        "from sqlalchemy import create_engine\n",
        "from datetime import datetime, timedelta\n",
        "from sklearn.decomposition import PCA\n",
        "from sklearn.preprocessing import StandardScaler\n",
        "import statsmodels.api as sm\n",
        "import matplotlib.pyplot as plt\n",
        "import seaborn as sns\n",
        "import warnings\n",
        "warnings.filterwarnings('ignore')"
      ]
    },
    {
      "cell_type": "code",
      "source": [
        "url = 'https://en.wikipedia.org/wiki/List_of_S%26P_500_companies'\n",
        "headers = {\n",
        "    'User-Agent': 'Mozilla/5.0 (Windows NT 10.0; Win64; x64) AppleWebKit/537.36 (KHTML, like Gecko) Chrome/91.0.4472.124 Safari/537.36'\n",
        "}\n",
        "response = requests.get(url, headers=headers)\n",
        "tables = pd.read_html(response.text)\n",
        "sp500_table = tables[0]\n",
        "\n",
        "print(\"Successfully extracted table from Wikipedia\")\n",
        "print(f\"Table shape: {sp500_table.shape}\")\n",
        "print(f\"Columns: {list(sp500_table.columns)}\\n\")"
      ],
      "metadata": {
        "colab": {
          "base_uri": "https://localhost:8080/"
        },
        "id": "-LXwBeUg_B6-",
        "outputId": "564746fb-3c20-43c6-8a5c-0909bdb06dc6"
      },
      "execution_count": null,
      "outputs": [
        {
          "output_type": "stream",
          "name": "stdout",
          "text": [
            "Successfully extracted table from Wikipedia\n",
            "Table shape: (503, 8)\n",
            "Columns: ['Symbol', 'Security', 'GICS Sector', 'GICS Sub-Industry', 'Headquarters Location', 'Date added', 'CIK', 'Founded']\n",
            "\n"
          ]
        }
      ]
    },
    {
      "cell_type": "code",
      "source": [
        "# Extract tickers and clean them\n",
        "tickers = sp500_table['Symbol'].str.replace('.', '-').tolist()\n",
        "print(f\"Total number of tickers extracted: {len(tickers)}\")\n",
        "print(f\"First 10 tickers: {tickers[:10]}\")\n",
        "print(f\"Last 10 tickers: {tickers[-10:]}\\n\")"
      ],
      "metadata": {
        "colab": {
          "base_uri": "https://localhost:8080/"
        },
        "id": "jWM6Se1b_5Rp",
        "outputId": "b88587a3-dd08-4358-adde-18f812f386ec"
      },
      "execution_count": null,
      "outputs": [
        {
          "output_type": "stream",
          "name": "stdout",
          "text": [
            "Total number of tickers extracted: 503\n",
            "First 10 tickers: ['MMM', 'AOS', 'ABT', 'ABBV', 'ACN', 'ADBE', 'AMD', 'AES', 'AFL', 'A']\n",
            "Last 10 tickers: ['WMB', 'WTW', 'WDAY', 'WYNN', 'XEL', 'XYL', 'YUM', 'ZBRA', 'ZBH', 'ZTS']\n",
            "\n"
          ]
        }
      ]
    },
    {
      "cell_type": "code",
      "source": [
        "end_date = datetime.now()\n",
        "start_date = end_date - timedelta(days=3*365)\n",
        "\n",
        "print(f\"Date range: {start_date.date()} to {end_date.date()}\")"
      ],
      "metadata": {
        "colab": {
          "base_uri": "https://localhost:8080/"
        },
        "id": "cYYoQQ1fARBb",
        "outputId": "b90e321d-528e-4c84-f421-85e62b321939"
      },
      "execution_count": null,
      "outputs": [
        {
          "output_type": "stream",
          "name": "stdout",
          "text": [
            "Date range: 2022-10-13 to 2025-10-12\n"
          ]
        }
      ]
    },
    {
      "cell_type": "code",
      "source": [
        "sp500_index = yf.download('^GSPC', start=start_date, end=end_date, progress=False)\n",
        "print(f\"✓ S&P 500 Index downloaded: {len(sp500_index)} days of data\\n\")"
      ],
      "metadata": {
        "colab": {
          "base_uri": "https://localhost:8080/"
        },
        "id": "Ny_uQDdqAn31",
        "outputId": "85f50f64-e5b0-4569-df40-1db1baf0f917"
      },
      "execution_count": null,
      "outputs": [
        {
          "output_type": "stream",
          "name": "stdout",
          "text": [
            "✓ S&P 500 Index downloaded: 751 days of data\n",
            "\n"
          ]
        }
      ]
    },
    {
      "cell_type": "code",
      "source": [
        "stock_data = yf.download(tickers, start=start_date, end=end_date, group_by='ticker', progress=True)\n",
        "\n",
        "print(f\"Downloaded: {stock_data.shape}\")"
      ],
      "metadata": {
        "colab": {
          "base_uri": "https://localhost:8080/"
        },
        "id": "ehTyXKmIBH8M",
        "outputId": "cfe27124-4a90-433b-f4de-74afecfe65db"
      },
      "execution_count": null,
      "outputs": [
        {
          "output_type": "stream",
          "name": "stderr",
          "text": [
            "[*********************100%***********************]  503 of 503 completed\n"
          ]
        },
        {
          "output_type": "stream",
          "name": "stdout",
          "text": [
            "Downloaded: (751, 2515)\n"
          ]
        }
      ]
    },
    {
      "cell_type": "code",
      "source": [
        "# Step 4: Extract Adjusted Close Prices and Calculate Returns\n",
        "# Reference: Course materials on return calculation\n",
        "print(\"=\"*60)\n",
        "print(\"STEP 4: Extracting Prices and Calculating Returns\")\n",
        "print(\"=\"*60)\n",
        "\n",
        "# Extract Close prices from stocks (we'll call this adj_close_prices for consistency)\n",
        "print(\"Extracting 'Close' prices from MultiIndex columns...\")\n",
        "adj_close_prices = stock_data.xs('Close', level=1, axis=1)\n",
        "\n",
        "print(f\"✓ Close prices extracted: {adj_close_prices.shape}\")\n",
        "print(f\"  Tickers: {adj_close_prices.shape[1]}\")\n",
        "print(f\"  Days: {adj_close_prices.shape[0]}\")\n",
        "print(f\"  First 5 tickers: {adj_close_prices.columns[:5].tolist()}\")\n",
        "print(f\"  Date range: {adj_close_prices.index[0].date()} to {adj_close_prices.index[-1].date()}\")\n",
        "\n",
        "# Calculate returns\n",
        "print(\"\\nCalculating returns...\")\n",
        "returns = adj_close_prices.pct_change().dropna()\n",
        "\n",
        "# For S&P 500, use 'Close' column\n",
        "sp500_returns = sp500_index['Close'].pct_change().dropna()\n",
        "\n",
        "print(f\"✓ Stock returns calculated: {returns.shape}\")\n",
        "print(f\"✓ S&P 500 returns calculated: {sp500_returns.shape}\")\n",
        "print(f\"  Date range: {returns.index[0].date()} to {returns.index[-1].date()}\")\n",
        "\n",
        "# Show sample of returns\n",
        "print(f\"\\nSample stock returns (first 3 tickers, first 3 days):\")\n",
        "print(returns.iloc[:3, :3])\n",
        "\n",
        "print(f\"\\nSample S&P 500 returns (first 5 days):\")\n",
        "print(sp500_returns.head())\n",
        "\n",
        "print(\"=\"*60 + \"\\n\")"
      ],
      "metadata": {
        "colab": {
          "base_uri": "https://localhost:8080/"
        },
        "id": "QjBwB5NyGx-9",
        "outputId": "fe4d8d9f-a666-454d-c0bd-0e51f7a8d9b8"
      },
      "execution_count": null,
      "outputs": [
        {
          "output_type": "stream",
          "name": "stdout",
          "text": [
            "============================================================\n",
            "STEP 4: Extracting Prices and Calculating Returns\n",
            "============================================================\n",
            "Extracting 'Close' prices from MultiIndex columns...\n",
            "✓ Close prices extracted: (751, 503)\n",
            "  Tickers: 503\n",
            "  Days: 751\n",
            "  First 5 tickers: ['GLW', 'CTRA', 'GILD', 'PFE', 'SJM']\n",
            "  Date range: 2022-10-13 to 2025-10-10\n",
            "\n",
            "Calculating returns...\n",
            "✓ Stock returns calculated: (386, 503)\n",
            "✓ S&P 500 returns calculated: (750, 1)\n",
            "  Date range: 2024-03-28 to 2025-10-10\n",
            "\n",
            "Sample stock returns (first 3 tickers, first 3 days):\n",
            "Ticker           GLW      CTRA      GILD\n",
            "Date                                    \n",
            "2024-03-28 -0.001817  0.000718  0.003287\n",
            "2024-04-01 -0.008799  0.004663 -0.005051\n",
            "2024-04-02 -0.004897  0.010353 -0.010840\n",
            "\n",
            "Sample S&P 500 returns (first 5 days):\n",
            "Ticker         ^GSPC\n",
            "Date                \n",
            "2022-10-14 -0.023663\n",
            "2022-10-17  0.026480\n",
            "2022-10-18  0.011428\n",
            "2022-10-19 -0.006672\n",
            "2022-10-20 -0.007951\n",
            "============================================================\n",
            "\n"
          ]
        }
      ]
    },
    {
      "cell_type": "code",
      "source": [
        "db_name = 'sp500_data.db'\n",
        "engine = create_engine(f'sqlite:///{db_name}')\n",
        "\n",
        "# Store data in database\n",
        "adj_close_prices.to_sql('adj_close_prices', engine, if_exists='replace', index=True)\n",
        "print(f\"✓ Stored adj_close_prices: {adj_close_prices.shape}\")\n",
        "\n",
        "returns.to_sql('returns', engine, if_exists='replace', index=True)\n",
        "print(f\"✓ Stored returns: {returns.shape}\")\n",
        "\n",
        "sp500_index.to_sql('sp500_index', engine, if_exists='replace', index=True)\n",
        "print(f\"✓ Stored sp500_index: {sp500_index.shape}\")\n",
        "\n",
        "sp500_returns.to_sql('sp500_returns', engine, if_exists='replace', index=True)"
      ],
      "metadata": {
        "colab": {
          "base_uri": "https://localhost:8080/"
        },
        "id": "MP_qKeAUlugq",
        "outputId": "91f7caa7-a155-4bf9-cc8d-12b7b2f7942f"
      },
      "execution_count": null,
      "outputs": [
        {
          "output_type": "stream",
          "name": "stdout",
          "text": [
            "✓ Stored adj_close_prices: (751, 503)\n",
            "✓ Stored returns: (386, 503)\n",
            "✓ Stored sp500_index: (751, 5)\n"
          ]
        },
        {
          "output_type": "execute_result",
          "data": {
            "text/plain": [
              "750"
            ]
          },
          "metadata": {},
          "execution_count": 13
        }
      ]
    },
    {
      "cell_type": "code",
      "source": [
        "# Standardize returns\n",
        "scaler = StandardScaler()\n",
        "returns_standardized = scaler.fit_transform(returns)\n",
        "print(f\"✓ Data standardized\")\n",
        "\n",
        "# Apply PCA with 5 components\n",
        "pca = PCA(n_components=5)\n",
        "principal_components = pca.fit_transform(returns_standardized)\n",
        "print(f\"✓ PCA completed: {principal_components.shape}\\n\")\n",
        "\n",
        "# Variance explained\n",
        "variance_explained = pca.explained_variance_ratio_\n",
        "cumulative_variance = np.cumsum(variance_explained)\n",
        "\n",
        "print(\"Variance Explained by Each Component:\")\n",
        "print(\"-\" * 50)\n",
        "for i in range(5):\n",
        "    print(f\"  PC{i+1}: {variance_explained[i]*100:.2f}% (Cumulative: {cumulative_variance[i]*100:.2f}%)\")\n",
        "print(\"-\" * 50)\n",
        "print(f\"Total: {cumulative_variance[-1]*100:.2f}%\\n\")\n",
        "\n",
        "# Create DataFrame with PC returns\n",
        "pc_returns = pd.DataFrame(\n",
        "    principal_components,\n",
        "    index=returns.index,\n",
        "    columns=[f'PC{i+1}' for i in range(5)]\n",
        ")\n",
        "print(f\"✓ PC returns DataFrame created: {pc_returns.shape}\")\n",
        "print(\"=\"*60 + \"\\n\")"
      ],
      "metadata": {
        "colab": {
          "base_uri": "https://localhost:8080/"
        },
        "id": "xW-mDk12rv_u",
        "outputId": "a232bd9e-c670-48d5-9a8a-da0c2b5704f0"
      },
      "execution_count": null,
      "outputs": [
        {
          "output_type": "stream",
          "name": "stdout",
          "text": [
            "✓ Data standardized\n",
            "✓ PCA completed: (386, 5)\n",
            "\n",
            "Variance Explained by Each Component:\n",
            "--------------------------------------------------\n",
            "  PC1: 28.84% (Cumulative: 28.84%)\n",
            "  PC2: 8.77% (Cumulative: 37.62%)\n",
            "  PC3: 3.58% (Cumulative: 41.20%)\n",
            "  PC4: 2.53% (Cumulative: 43.73%)\n",
            "  PC5: 1.92% (Cumulative: 45.64%)\n",
            "--------------------------------------------------\n",
            "Total: 45.64%\n",
            "\n",
            "✓ PC returns DataFrame created: (386, 5)\n",
            "============================================================\n",
            "\n"
          ]
        }
      ]
    },
    {
      "cell_type": "code",
      "source": [
        "common_dates = pc_returns.index.intersection(sp500_returns.index)\n",
        "pc_returns_aligned = pc_returns.loc[common_dates]\n",
        "sp500_returns_aligned = sp500_returns.loc[common_dates]\n",
        "\n",
        "print(f\"Aligned data: {len(common_dates)} dates\\n\")\n",
        "\n",
        "# Run regressions for each PC\n",
        "regression_results = {}\n",
        "\n",
        "for i in range(1, 6):\n",
        "    pc_name = f'PC{i}'\n",
        "    print(f\"{pc_name} Regression:\")\n",
        "    print(\"-\" * 50)\n",
        "\n",
        "    # Prepare regression data\n",
        "    X = sm.add_constant(sp500_returns_aligned.values)  # Add intercept\n",
        "    y = pc_returns_aligned[pc_name].values\n",
        "\n",
        "    # Fit OLS model\n",
        "    model = sm.OLS(y, X).fit()\n",
        "\n",
        "    # Store results\n",
        "    regression_results[pc_name] = {\n",
        "        'alpha': model.params[0],\n",
        "        'beta': model.params[1],\n",
        "        'alpha_pvalue': model.pvalues[0],\n",
        "        'beta_pvalue': model.pvalues[1],\n",
        "        'r_squared': model.rsquared\n",
        "    }\n",
        "\n",
        "    # Display results\n",
        "    print(f\"Alpha: {model.params[0]:.6f} (p-value: {model.pvalues[0]:.4f})\")\n",
        "    print(f\"Beta:  {model.params[1]:.6f} (p-value: {model.pvalues[1]:.4f})\")\n",
        "    print(f\"R^2:    {model.rsquared:.4f}\\n\")\n",
        "\n",
        "print(\"=\"*60)\n",
        "print(\"Summary Table:\")\n",
        "print(\"=\"*60)\n",
        "summary_df = pd.DataFrame({\n",
        "    'PC': [f'PC{i}' for i in range(1, 6)],\n",
        "    'Alpha': [regression_results[f'PC{i}']['alpha'] for i in range(1, 6)],\n",
        "    'Beta': [regression_results[f'PC{i}']['beta'] for i in range(1, 6)],\n",
        "    'Alpha p-val': [regression_results[f'PC{i}']['alpha_pvalue'] for i in range(1, 6)],\n",
        "    'Beta p-val': [regression_results[f'PC{i}']['beta_pvalue'] for i in range(1, 6)],\n",
        "    'R^2': [regression_results[f'PC{i}']['r_squared'] for i in range(1, 6)]\n",
        "})\n",
        "print(summary_df.to_string(index=False))"
      ],
      "metadata": {
        "colab": {
          "base_uri": "https://localhost:8080/"
        },
        "id": "OB2_Iej1rz_9",
        "outputId": "596112ef-27aa-46bb-f636-86ceea10c5fb"
      },
      "execution_count": null,
      "outputs": [
        {
          "output_type": "stream",
          "name": "stdout",
          "text": [
            "Aligned data: 386 dates\n",
            "\n",
            "PC1 Regression:\n",
            "--------------------------------------------------\n",
            "Alpha: -0.629136 (p-value: 0.0269)\n",
            "Beta:  994.551780 (p-value: 0.0000)\n",
            "R^2:    0.7884\n",
            "\n",
            "PC2 Regression:\n",
            "--------------------------------------------------\n",
            "Alpha: 0.113954 (p-value: 0.7259)\n",
            "Beta:  -180.140603 (p-value: 0.0000)\n",
            "R^2:    0.0850\n",
            "\n",
            "PC3 Regression:\n",
            "--------------------------------------------------\n",
            "Alpha: -0.035841 (p-value: 0.8675)\n",
            "Beta:  56.658086 (p-value: 0.0047)\n",
            "R^2:    0.0206\n",
            "\n",
            "PC4 Regression:\n",
            "--------------------------------------------------\n",
            "Alpha: 0.035498 (p-value: 0.8435)\n",
            "Beta:  -56.115474 (p-value: 0.0008)\n",
            "R^2:    0.0286\n",
            "\n",
            "PC5 Regression:\n",
            "--------------------------------------------------\n",
            "Alpha: 0.001408 (p-value: 0.9929)\n",
            "Beta:  -2.225102 (p-value: 0.8800)\n",
            "R^2:    0.0001\n",
            "\n",
            "============================================================\n",
            "Summary Table:\n",
            "============================================================\n",
            " PC     Alpha        Beta  Alpha p-val    Beta p-val      R^2\n",
            "PC1 -0.629136  994.551780     0.026906 1.393827e-131 0.788440\n",
            "PC2  0.113954 -180.140603     0.725934  5.285420e-09 0.085034\n",
            "PC3 -0.035841   56.658086     0.867517  4.712750e-03 0.020610\n",
            "PC4  0.035498  -56.115474     0.843450  8.416277e-04 0.028648\n",
            "PC5  0.001408   -2.225102     0.992929  8.800445e-01 0.000059\n"
          ]
        }
      ]
    }
  ]
}