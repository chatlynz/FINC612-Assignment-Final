{
  "cells": [
    {
      "cell_type": "code",
      "execution_count": 11,
      "metadata": {},
      "outputs": [
        {
          "name": "stdout",
          "output_type": "stream",
          "text": [
            "Requirement already satisfied: yfinance in /usr/local/python/3.12.1/lib/python3.12/site-packages (0.2.66)\n",
            "Requirement already satisfied: sqlalchemy in /usr/local/python/3.12.1/lib/python3.12/site-packages (2.0.44)\n",
            "Requirement already satisfied: statsmodels in /usr/local/python/3.12.1/lib/python3.12/site-packages (0.14.5)\n",
            "Collecting lxml\n",
            "  Downloading lxml-6.0.2-cp312-cp312-manylinux_2_26_x86_64.manylinux_2_28_x86_64.whl.metadata (3.6 kB)\n",
            "Requirement already satisfied: pandas>=1.3.0 in /home/codespace/.local/lib/python3.12/site-packages (from yfinance) (2.3.1)\n",
            "Requirement already satisfied: numpy>=1.16.5 in /usr/local/python/3.12.1/lib/python3.12/site-packages (from yfinance) (1.26.4)\n",
            "Requirement already satisfied: requests>=2.31 in /home/codespace/.local/lib/python3.12/site-packages (from yfinance) (2.32.4)\n",
            "Requirement already satisfied: multitasking>=0.0.7 in /usr/local/python/3.12.1/lib/python3.12/site-packages (from yfinance) (0.0.12)\n",
            "Requirement already satisfied: platformdirs>=2.0.0 in /home/codespace/.local/lib/python3.12/site-packages (from yfinance) (4.3.8)\n",
            "Requirement already satisfied: pytz>=2022.5 in /home/codespace/.local/lib/python3.12/site-packages (from yfinance) (2025.2)\n",
            "Requirement already satisfied: frozendict>=2.3.4 in /usr/local/python/3.12.1/lib/python3.12/site-packages (from yfinance) (2.4.6)\n",
            "Requirement already satisfied: peewee>=3.16.2 in /usr/local/python/3.12.1/lib/python3.12/site-packages (from yfinance) (3.18.2)\n",
            "Requirement already satisfied: beautifulsoup4>=4.11.1 in /home/codespace/.local/lib/python3.12/site-packages (from yfinance) (4.13.4)\n",
            "Requirement already satisfied: curl_cffi>=0.7 in /usr/local/python/3.12.1/lib/python3.12/site-packages (from yfinance) (0.13.0)\n",
            "Requirement already satisfied: protobuf>=3.19.0 in /usr/local/python/3.12.1/lib/python3.12/site-packages (from yfinance) (6.33.0)\n",
            "Requirement already satisfied: websockets>=13.0 in /usr/local/python/3.12.1/lib/python3.12/site-packages (from yfinance) (15.0.1)\n",
            "Requirement already satisfied: greenlet>=1 in /usr/local/python/3.12.1/lib/python3.12/site-packages (from sqlalchemy) (3.2.4)\n",
            "Requirement already satisfied: typing-extensions>=4.6.0 in /home/codespace/.local/lib/python3.12/site-packages (from sqlalchemy) (4.14.1)\n",
            "Requirement already satisfied: scipy!=1.9.2,>=1.8 in /home/codespace/.local/lib/python3.12/site-packages (from statsmodels) (1.16.0)\n",
            "Requirement already satisfied: patsy>=0.5.6 in /usr/local/python/3.12.1/lib/python3.12/site-packages (from statsmodels) (1.0.1)\n",
            "Requirement already satisfied: packaging>=21.3 in /home/codespace/.local/lib/python3.12/site-packages (from statsmodels) (25.0)\n",
            "Requirement already satisfied: soupsieve>1.2 in /home/codespace/.local/lib/python3.12/site-packages (from beautifulsoup4>=4.11.1->yfinance) (2.7)\n",
            "Requirement already satisfied: cffi>=1.12.0 in /home/codespace/.local/lib/python3.12/site-packages (from curl_cffi>=0.7->yfinance) (1.17.1)\n",
            "Requirement already satisfied: certifi>=2024.2.2 in /home/codespace/.local/lib/python3.12/site-packages (from curl_cffi>=0.7->yfinance) (2025.7.9)\n",
            "Requirement already satisfied: pycparser in /home/codespace/.local/lib/python3.12/site-packages (from cffi>=1.12.0->curl_cffi>=0.7->yfinance) (2.22)\n",
            "Requirement already satisfied: python-dateutil>=2.8.2 in /home/codespace/.local/lib/python3.12/site-packages (from pandas>=1.3.0->yfinance) (2.9.0.post0)\n",
            "Requirement already satisfied: tzdata>=2022.7 in /home/codespace/.local/lib/python3.12/site-packages (from pandas>=1.3.0->yfinance) (2025.2)\n",
            "Requirement already satisfied: six>=1.5 in /home/codespace/.local/lib/python3.12/site-packages (from python-dateutil>=2.8.2->pandas>=1.3.0->yfinance) (1.17.0)\n",
            "Requirement already satisfied: charset_normalizer<4,>=2 in /home/codespace/.local/lib/python3.12/site-packages (from requests>=2.31->yfinance) (3.4.2)\n",
            "Requirement already satisfied: idna<4,>=2.5 in /home/codespace/.local/lib/python3.12/site-packages (from requests>=2.31->yfinance) (3.10)\n",
            "Requirement already satisfied: urllib3<3,>=1.21.1 in /home/codespace/.local/lib/python3.12/site-packages (from requests>=2.31->yfinance) (2.5.0)\n",
            "Downloading lxml-6.0.2-cp312-cp312-manylinux_2_26_x86_64.manylinux_2_28_x86_64.whl (5.3 MB)\n",
            "\u001b[2K   \u001b[90m━━━━━━━━━━━━━━━━━━━━━━━━━━━━━━━━━━━━━━━━\u001b[0m \u001b[32m5.3/5.3 MB\u001b[0m \u001b[31m46.1 MB/s\u001b[0m eta \u001b[36m0:00:00\u001b[0m\n",
            "\u001b[?25hInstalling collected packages: lxml\n",
            "Successfully installed lxml-6.0.2\n",
            "\n",
            "\u001b[1m[\u001b[0m\u001b[34;49mnotice\u001b[0m\u001b[1;39;49m]\u001b[0m\u001b[39;49m A new release of pip is available: \u001b[0m\u001b[31;49m25.1.1\u001b[0m\u001b[39;49m -> \u001b[0m\u001b[32;49m25.2\u001b[0m\n",
            "\u001b[1m[\u001b[0m\u001b[34;49mnotice\u001b[0m\u001b[1;39;49m]\u001b[0m\u001b[39;49m To update, run: \u001b[0m\u001b[32;49mpython3 -m pip install --upgrade pip\u001b[0m\n"
          ]
        }
      ],
      "source": [
        "!pip install yfinance sqlalchemy statsmodels lxml"
      ]
    },
    {
      "cell_type": "code",
      "execution_count": 1,
      "metadata": {
        "id": "AzbY7ZHH3tml"
      },
      "outputs": [],
      "source": [
        "import pandas as pd\n",
        "import numpy as np\n",
        "import yfinance as yf\n",
        "import requests\n",
        "import sqlite3\n",
        "from sqlalchemy import create_engine\n",
        "from datetime import datetime, timedelta\n",
        "from sklearn.decomposition import PCA\n",
        "from sklearn.preprocessing import StandardScaler\n",
        "import statsmodels.api as sm\n",
        "import matplotlib.pyplot as plt\n",
        "import seaborn as sns\n",
        "import warnings\n",
        "warnings.filterwarnings('ignore')"
      ]
    },
    {
      "cell_type": "code",
      "execution_count": 2,
      "metadata": {
        "colab": {
          "base_uri": "https://localhost:8080/"
        },
        "id": "-LXwBeUg_B6-",
        "outputId": "564746fb-3c20-43c6-8a5c-0909bdb06dc6"
      },
      "outputs": [
        {
          "name": "stdout",
          "output_type": "stream",
          "text": [
            "Successfully extracted table from Wikipedia\n",
            "Table shape: (503, 8)\n",
            "Columns: ['Symbol', 'Security', 'GICS Sector', 'GICS Sub-Industry', 'Headquarters Location', 'Date added', 'CIK', 'Founded']\n",
            "\n"
          ]
        }
      ],
      "source": [
        "url = 'https://en.wikipedia.org/wiki/List_of_S%26P_500_companies'\n",
        "headers = {\n",
        "    'User-Agent': 'Mozilla/5.0 (Windows NT 10.0; Win64; x64) AppleWebKit/537.36 (KHTML, like Gecko) Chrome/91.0.4472.124 Safari/537.36'\n",
        "}\n",
        "response = requests.get(url, headers=headers)\n",
        "tables = pd.read_html(response.text)\n",
        "sp500_table = tables[0]\n",
        "\n",
        "print(\"Successfully extracted table from Wikipedia\")\n",
        "print(f\"Table shape: {sp500_table.shape}\")\n",
        "print(f\"Columns: {list(sp500_table.columns)}\\n\")"
      ]
    },
    {
      "cell_type": "code",
      "execution_count": 4,
      "metadata": {
        "colab": {
          "base_uri": "https://localhost:8080/"
        },
        "id": "jWM6Se1b_5Rp",
        "outputId": "b88587a3-dd08-4358-adde-18f812f386ec"
      },
      "outputs": [
        {
          "name": "stdout",
          "output_type": "stream",
          "text": [
            "Total number of tickers extracted: 503\n",
            "First 10 tickers: ['MMM', 'AOS', 'ABT', 'ABBV', 'ACN', 'ADBE', 'AMD', 'AES', 'AFL', 'A']\n",
            "\n"
          ]
        }
      ],
      "source": [
        "# Extract tickers and clean them (Yahoo Finance uses '-' for dots, e.g., 'BRK.B' -> 'BRK-B')\n",
        "tickers = sp500_table['Symbol'].str.replace('.', '-').tolist()\n",
        "print(f\"Total number of tickers extracted: {len(tickers)}\")\n",
        "print(f\"First 10 tickers: {tickers[:10]}\\n\")"
      ]
    },
    {
      "cell_type": "code",
      "execution_count": 5,
      "metadata": {
        "colab": {
          "base_uri": "https://localhost:8080/"
        },
        "id": "cYYoQQ1fARBb",
        "outputId": "b90e321d-528e-4c84-f421-85e62b321939"
      },
      "outputs": [
        {
          "name": "stdout",
          "output_type": "stream",
          "text": [
            "Date range: 2022-10-19 to 2025-10-18\n"
          ]
        }
      ],
      "source": [
        "end_date = datetime.now()\n",
        "start_date = end_date - timedelta(days=3*365)\n",
        "\n",
        "print(f\"Date range: {start_date.date()} to {end_date.date()}\")"
      ]
    },
    {
      "cell_type": "code",
      "execution_count": 8,
      "metadata": {
        "colab": {
          "base_uri": "https://localhost:8080/"
        },
        "id": "Ny_uQDdqAn31",
        "outputId": "85f50f64-e5b0-4569-df40-1db1baf0f917"
      },
      "outputs": [
        {
          "name": "stdout",
          "output_type": "stream",
          "text": [
            "S&P 500 Index downloaded: 752 days of data\n",
            "\n"
          ]
        }
      ],
      "source": [
        "# Download S&P 500 Index data\n",
        "sp500_index = yf.download('^GSPC', start=start_date, end=end_date, progress=False)\n",
        "print(f\"S&P 500 Index downloaded: {len(sp500_index)} days of data\\n\")"
      ]
    },
    {
      "cell_type": "code",
      "execution_count": 7,
      "metadata": {
        "colab": {
          "base_uri": "https://localhost:8080/"
        },
        "id": "ehTyXKmIBH8M",
        "outputId": "cfe27124-4a90-433b-f4de-74afecfe65db"
      },
      "outputs": [
        {
          "name": "stderr",
          "output_type": "stream",
          "text": [
            "[*********************100%***********************]  503 of 503 completed\n"
          ]
        },
        {
          "name": "stdout",
          "output_type": "stream",
          "text": [
            "Downloaded: (752, 2515)\n"
          ]
        }
      ],
      "source": [
        "stock_data = yf.download(tickers, start=start_date, end=end_date, group_by='ticker', progress=True)\n",
        "\n",
        "print(f\"Downloaded: {stock_data.shape}\")"
      ]
    },
    {
      "cell_type": "code",
      "execution_count": 9,
      "metadata": {
        "colab": {
          "base_uri": "https://localhost:8080/"
        },
        "id": "QjBwB5NyGx-9",
        "outputId": "fe4d8d9f-a666-454d-c0bd-0e51f7a8d9b8"
      },
      "outputs": [
        {
          "name": "stdout",
          "output_type": "stream",
          "text": [
            "Stock returns calculated: (391, 503)\n",
            "S&P 500 returns calculated: (751, 1)\n"
          ]
        }
      ],
      "source": [
        "# Extract 'Close' prices\n",
        "adj_close_prices = stock_data.xs('Close', level=1, axis=1)\n",
        "\n",
        "# Calculate stock returns (Reference: PCA_example.py)\n",
        "returns = adj_close_prices.pct_change().dropna()\n",
        "\n",
        "# Calculate S&P 500 returns (Reference: PCA_example.py)\n",
        "sp500_returns = sp500_index['Close'].pct_change().dropna()\n",
        "\n",
        "print(f\"Stock returns calculated: {returns.shape}\")\n",
        "print(f\"S&P 500 returns calculated: {sp500_returns.shape}\")"
      ]
    },
    {
      "cell_type": "code",
      "execution_count": 10,
      "metadata": {
        "colab": {
          "base_uri": "https://localhost:8080/"
        },
        "id": "MP_qKeAUlugq",
        "outputId": "91f7caa7-a155-4bf9-cc8d-12b7b2f7942f"
      },
      "outputs": [
        {
          "name": "stdout",
          "output_type": "stream",
          "text": [
            "All data successfully stored in 'sp500_data.db'\n"
          ]
        }
      ],
      "source": [
        "db_name = 'sp500_data.db'\n",
        "engine = create_engine(f'sqlite:///{db_name}')\n",
        "\n",
        "# Store data in database (Reference: PCA_example.py for SQL interaction)\n",
        "adj_close_prices.to_sql('adj_close_prices', engine, if_exists='replace', index=True)\n",
        "returns.to_sql('returns', engine, if_exists='replace', index=True)\n",
        "sp500_index.to_sql('sp500_index', engine, if_exists='replace', index=True)\n",
        "sp500_returns.to_sql('sp500_returns', engine, if_exists='replace', index=True)\n",
        "\n",
        "print(f\"All data successfully stored in '{db_name}'\")"
      ]
    },
    {
      "cell_type": "code",
      "execution_count": 12,
      "metadata": {
        "colab": {
          "base_uri": "https://localhost:8080/"
        },
        "id": "xW-mDk12rv_u",
        "outputId": "a232bd9e-c670-48d5-9a8a-da0c2b5704f0"
      },
      "outputs": [
        {
          "name": "stdout",
          "output_type": "stream",
          "text": [
            "Data standardized: (391, 503)\n",
            "PCA completed: (391, 5)\n",
            "\n",
            "Variance Explained by First Five Components:\n",
            "--------------------------------------------------\n",
            "  PC1:  28.71% (Cumulative: 28.71%)\n",
            "  PC2:   8.76% (Cumulative: 37.47%)\n",
            "  PC3:   3.61% (Cumulative: 41.07%)\n",
            "  PC4:   2.52% (Cumulative: 43.60%)\n",
            "  PC5:   1.96% (Cumulative: 45.55%)\n",
            "--------------------------------------------------\n",
            "Total Variance Explained by 5 factors: 45.55%\n",
            "\n",
            "PC returns DataFrame created: (391, 5)\n"
          ]
        }
      ],
      "source": [
        "# Standardize returns (Reference: PCA_simulation.py, PCA_example.py)\n",
        "scaler = StandardScaler()\n",
        "returns_standardized = scaler.fit_transform(returns)\n",
        "print(f\"Data standardized: {returns_standardized.shape}\")\n",
        "\n",
        "# Apply PCA with 5 components (Reference: PCA_simulation.py, PCA_example.py)\n",
        "pca = PCA(n_components=5)\n",
        "principal_components = pca.fit_transform(returns_standardized)\n",
        "print(f\"PCA completed: {principal_components.shape}\\n\")\n",
        "\n",
        "# Variance explained\n",
        "variance_explained = pca.explained_variance_ratio_\n",
        "cumulative_variance = np.cumsum(variance_explained)\n",
        "\n",
        "print(\"Variance Explained by First Five Components:\")\n",
        "print(\"-\" * 50)\n",
        "for i in range(5):\n",
        "    print(f\"  PC{i+1}: {variance_explained[i]*100:>6.2f}% (Cumulative: {cumulative_variance[i]*100:.2f}%)\")\n",
        "print(\"-\" * 50)\n",
        "print(f\"Total Variance Explained by 5 factors: {cumulative_variance[-1]*100:.2f}%\")\n",
        "\n",
        "# Create a DataFrame for the PC \"factor returns\"\n",
        "pc_returns = pd.DataFrame(\n",
        "    principal_components,\n",
        "    index=returns.index,\n",
        "    columns=[f'PC{i+1}' for i in range(5)]\n",
        ")\n",
        "print(f\"\\nPC returns DataFrame created: {pc_returns.shape}\")"
      ]
    },
    {
      "cell_type": "code",
      "execution_count": 13,
      "metadata": {
        "colab": {
          "base_uri": "https://localhost:8080/"
        },
        "id": "OB2_Iej1rz_9",
        "outputId": "596112ef-27aa-46bb-f636-86ceea10c5fb"
      },
      "outputs": [
        {
          "name": "stdout",
          "output_type": "stream",
          "text": [
            "Aligned data for regression: 391 dates\n",
            "\n",
            "             alpha (β0)  beta (β1)  alpha_pvalue  beta_pvalue  r_squared\n",
            "Factor (PC)                                                             \n",
            "PC1             -0.6633   992.8950        0.0197       0.0000     0.7848\n",
            "PC2              0.1226  -183.4429        0.7037       0.0000     0.0878\n",
            "PC3             -0.0360    53.8345        0.8669       0.0073     0.0184\n",
            "PC4              0.0391   -58.4994        0.8265       0.0005     0.0310\n",
            "PC5              0.0018    -2.6861        0.9910       0.8564     0.0001\n"
          ]
        }
      ],
      "source": [
        "# Align dates\n",
        "common_dates = pc_returns.index.intersection(sp500_returns.index)\n",
        "pc_returns_aligned = pc_returns.loc[common_dates]\n",
        "sp500_returns_aligned = sp500_returns.loc[common_dates]\n",
        "\n",
        "print(f\"Aligned data for regression: {len(common_dates)} dates\\n\")\n",
        "\n",
        "# Run regressions for each PC\n",
        "regression_results = {}\n",
        "X = sm.add_constant(sp500_returns_aligned.values)  # Add intercept\n",
        "\n",
        "for i in range(1, 6):\n",
        "    pc_name = f'PC{i}'\n",
        "    \n",
        "    # Prepare regression data\n",
        "    y = pc_returns_aligned[pc_name].values\n",
        "\n",
        "    # Fit OLS model (Reference: 612-CrossSectionalAnalysis.pdf, Page 9 )\n",
        "    model = sm.OLS(y, X).fit()\n",
        "\n",
        "    # Store results\n",
        "    regression_results[pc_name] = {\n",
        "        'alpha (β0)': model.params[0],\n",
        "        'beta (β1)': model.params[1],\n",
        "        'alpha_pvalue': model.pvalues[0],\n",
        "        'beta_pvalue': model.pvalues[1],\n",
        "        'r_squared': model.rsquared\n",
        "    }\n",
        "\n",
        "# Display results in a summary table\n",
        "summary_df = pd.DataFrame(regression_results).T\n",
        "summary_df.index.name = \"Factor (PC)\"\n",
        "print(summary_df.to_string(float_format=\"%.4f\"))"
      ]
    },
    {
      "cell_type": "markdown",
      "metadata": {},
      "source": [
        "Q4:\n",
        "These 5 components capture 45.55% of the total ups and downs:\n",
        "\n",
        "PC1: 28.71%\n",
        "PC2: 8.76%\n",
        "PC3: 3.61%\n",
        "PC4: 2.52%\n",
        "PC5: 1.96%\n",
        "\n",
        "PC1: High beta (993), r_squared 78% – Alpha is negative but small.\n",
        "PC2: Negative beta (-183), r_squared 9% – moves opposite market, maybe a hedge.\n",
        "PC3: Positive beta (54), r_squared 2% – weak market link.\n",
        "PC4: Negative beta (-58), r_squared 3% – another contrarian.\n",
        "PC5: Near-zero beta, r_squared 0% – random noise"
      ]
    },
    {
      "cell_type": "markdown",
      "metadata": {},
      "source": [
        "Q5 (reference - DimensionalityReduction.pdf):\n",
        "PCA's' goal of the PCA is to maximize variance.\n",
        "FA's find directions for sum of wi * xi maximum variance.\n",
        "PCA is preferred in this case since it directly maximizes explained variance. Also PCA is simpler than FA, since FA might overcomplicate things by assuming latent factors that may not exist or fit the market data well"
      ]
    }
  ],
  "metadata": {
    "colab": {
      "provenance": [],
      "toc_visible": true
    },
    "kernelspec": {
      "display_name": "Python 3",
      "name": "python3"
    },
    "language_info": {
      "codemirror_mode": {
        "name": "ipython",
        "version": 3
      },
      "file_extension": ".py",
      "mimetype": "text/x-python",
      "name": "python",
      "nbconvert_exporter": "python",
      "pygments_lexer": "ipython3",
      "version": "3.12.1"
    }
  },
  "nbformat": 4,
  "nbformat_minor": 0
}
